{
 "cells": [
  {
   "cell_type": "markdown",
   "id": "75f70205",
   "metadata": {},
   "source": [
    "# Make BData"
   ]
  },
  {
   "cell_type": "markdown",
   "id": "dfa2c73b",
   "metadata": {},
   "source": [
    "This notebook provides a hand-on tutorial for making BData from public datasets.\n",
    "As an example dataset, we use THING-fMRI.\n",
    "\n",
    "GitHub: <https://github.com/KamitaniLab/bdata-datasets>"
   ]
  },
  {
   "cell_type": "markdown",
   "id": "719628a0",
   "metadata": {},
   "source": [
    "## 0. Setup"
   ]
  },
  {
   "cell_type": "code",
   "execution_count": null,
   "id": "7fb2e83a",
   "metadata": {},
   "outputs": [],
   "source": [
    "import bdpy\n",
    "import numpy as np\n",
    "import pandas as pd\n"
   ]
  },
  {
   "cell_type": "markdown",
   "id": "beeb2b97",
   "metadata": {},
   "source": [
    "## 1. Examine the dataset"
   ]
  },
  {
   "cell_type": "markdown",
   "id": "dcdedfbd",
   "metadata": {},
   "source": [
    "Checkbox:\n",
    "\n",
    "- [ ] Raw data or preprocessed? BOLD signals or beta?\n",
    "- [ ] What format (Nifti? Original format?)\n",
    "- [ ] What additional data besides brain activity is available (stimulus, behaviour, physiological measures, ...)\n",
    "- [ ] ROI or brain parcellation available?"
   ]
  },
  {
   "cell_type": "markdown",
   "id": "7865832c",
   "metadata": {},
   "source": [
    "## 2. Downlaod data"
   ]
  },
  {
   "cell_type": "markdown",
   "id": "5551f0eb",
   "metadata": {},
   "source": [
    "<https://plus.figshare.com/articles/dataset/THINGS-data_fMRI_Single_Trial_Responses_table_format_/20492835>\n",
    "\n",
    "This notebook supposes that THING-fMRI data is downloaded and deployed in `src` as below:\n",
    "\n",
    "```\n",
    "src\n",
    "└── fMRI-Single-Trial-Responses-table-format\n",
    "    ├── betas_csv\n",
    "    │   ├── sub-01_ResponseData.h5\n",
    "    │   ├── sub-01_StimulusMetadata.csv\n",
    "    │   ├── sub-01_VoxelMetadata.csv\n",
    "    │   ├── sub-02_ResponseData.h5\n",
    "    │   ├── sub-02_StimulusMetadata.csv\n",
    "    │   ├── sub-02_VoxelMetadata.csv\n",
    "    │   ├── sub-03_ResponseData.h5\n",
    "    │   ├── sub-03_StimulusMetadata.csv\n",
    "    │   └── sub-03_VoxelMetadata.csv\n",
    "    └── betas_csv.tar.gz\n",
    "```"
   ]
  },
  {
   "cell_type": "markdown",
   "id": "c4617006",
   "metadata": {},
   "source": [
    "## 3. Load THINGS-fMRI datast"
   ]
  },
  {
   "cell_type": "code",
   "execution_count": null,
   "id": "5c8798aa",
   "metadata": {},
   "outputs": [],
   "source": [
    "voxel_file = \"./src/fMRI-Single-Trial-Responses-table-format/betas_csv/sub-01_ResponseData.h5\"\n",
    "stim_file  = \"./src/fMRI-Single-Trial-Responses-table-format/betas_csv/sub-01_StimulusMetadata.csv\"\n",
    "meta_file  = './src/fMRI-Single-Trial-Responses-table-format/betas_csv/sub-01_VoxelMetadata.csv'\n",
    "\n",
    "voxel_data  = pd.read_hdf(voxel_file)\n",
    "stim_data  = pd.read_csv(stim_file)\n",
    "meta_data = pd.read_csv(meta_file)\n"
   ]
  },
  {
   "cell_type": "code",
   "execution_count": null,
   "id": "423994e8",
   "metadata": {},
   "outputs": [],
   "source": [
    "display(voxel_data)\n",
    "display(stim_data)\n",
    "display(meta_data)\n"
   ]
  },
  {
   "cell_type": "markdown",
   "id": "b919c058",
   "metadata": {},
   "source": [
    "THING-fMRI:\n",
    "\n",
    "- We will make BData for GLM-beta values.\n",
    "- Each sample have the following attributes:\n",
    "    - trial_type (str)\n",
    "    - session (int)\n",
    "    - run (int)\n",
    "    - subject_id (str)\n",
    "    - trial_id (int)\n",
    "    - stimulus (str)\n",
    "  - Each voxel have the following attributes (all numerical):\n",
    "    - voxel_id, subject_id\n",
    "    - voxel_x, voxel_y, voxel_z\n",
    "    - nc_singletrial, nc_testset, splithalf_uncorrected, splithalf_corrected\n",
    "    - pRF information: prf-eccentricity, prf-polarangle, prf-rsquared, prf-size\n",
    "    - ROI flags: V1, V2, V3, hV4, VO1, VO2, LO1 (prf), LO2 (prf), TO1, TO2, V3b, V3a, lEBA, rEBA, lFFA, rFFA, lOFA, rOFA, lSTS, rSTS, lPPA, rPPA, lRSC, rRSC, lTOS, rTOS, lLOC, rLOC"
   ]
  },
  {
   "cell_type": "markdown",
   "id": "889baa3a",
   "metadata": {},
   "source": [
    "## 4. Make data for BData"
   ]
  },
  {
   "cell_type": "code",
   "execution_count": null,
   "id": "10f1a72a",
   "metadata": {},
   "outputs": [],
   "source": [
    "# Arrays to hold the data\n",
    "n_voxels = len(voxel_data)\n",
    "n_stimuli = len(stim_data)\n",
    "\n",
    "voxel_data_ary = np.zeros([n_stimuli, n_voxels])\n",
    "\n",
    "session_array = np.zeros([n_stimuli,])\n",
    "run_ary       = np.zeros([n_stimuli,])\n",
    "trial_array   = np.zeros([n_stimuli,])\n",
    "stimulus_list  = []\n",
    "\n",
    "# Iterate over the stimuli and fill the arrays\n",
    "n_stimuli = len(stim_data)\n",
    "for i in range(n_stimuli):\n",
    "    voxel_data_ary[i, :] = voxel_data[i].values\n",
    "    session_array[i] = stim_data['session'][i]\n",
    "    run_ary[i]       = stim_data['run'][i]\n",
    "    trial_array[i]     = stim_data['trial_id'][i]\n",
    "    stimulus_list.append(stim_data['stimulus'][i])\n"
   ]
  },
  {
   "cell_type": "code",
   "execution_count": null,
   "id": "51768b7e",
   "metadata": {},
   "outputs": [],
   "source": [
    "# Convert stimulus_array from str to int\n",
    "\n",
    "display(len(stimulus_list))\n",
    "\n",
    "stimulus_set = np.unique(stimulus_list)\n",
    "display(stimulus_set.shape)\n",
    "\n",
    "stimulus_name_vmap     = {i: s for i, s in enumerate(stimulus_set)}\n",
    "stimulus_name_vmap_rev = {s: i for i, s in enumerate(stimulus_set)}\n",
    "\n",
    "display(stimulus_name_vmap)\n",
    "\n",
    "stimulus_array = np.array([stimulus_name_vmap_rev[s] for s in stimulus_list])\n",
    "display(stimulus_array)"
   ]
  },
  {
   "cell_type": "code",
   "execution_count": null,
   "id": "7e64d647",
   "metadata": {},
   "outputs": [],
   "source": [
    "# ROIs\n",
    "\n",
    "rois = [\"V1\", \"V2\", \"V3\"]\n",
    "roi_masks = {}\n",
    "\n",
    "for roi in rois:\n",
    "    roi_mask = meta_data[roi].values\n",
    "    print(f\"{roi}: {np.sum(roi_mask == 1)} / {roi_mask.size}\")\n",
    "    roi_masks.update({roi: roi_mask})"
   ]
  },
  {
   "cell_type": "markdown",
   "id": "68e79973",
   "metadata": {},
   "source": [
    "## 5. Create an initial empty BData"
   ]
  },
  {
   "cell_type": "code",
   "execution_count": null,
   "id": "cf6d3c38",
   "metadata": {},
   "outputs": [],
   "source": [
    "bdata = bdpy.BData()\n",
    "display(bdata.dataset.shape)"
   ]
  },
  {
   "cell_type": "markdown",
   "id": "b136c9d3",
   "metadata": {},
   "source": [
    "## 6. Add data into BData"
   ]
  },
  {
   "cell_type": "code",
   "execution_count": null,
   "id": "6ac805cc",
   "metadata": {},
   "outputs": [],
   "source": [
    "# Add dataset\n",
    "\n",
    "bdata.add(voxel_data_ary, \"VoxelData\")\n",
    "\n",
    "display(bdata.dataset.shape)\n",
    "\n",
    "bdata.add(session_array, \"Session\")\n",
    "bdata.add(run_ary, \"Run\")\n",
    "bdata.add(trial_array, \"Trial\")\n",
    "bdata.add(stimulus_array, \"stimulus_name\")\n",
    "\n",
    "display(bdata.dataset.shape)\n",
    "\n",
    "display(bdata.select(\"VoxelData\").shape)"
   ]
  },
  {
   "cell_type": "code",
   "execution_count": null,
   "id": "4555cae1",
   "metadata": {},
   "outputs": [],
   "source": [
    "# Add vmap\n",
    "\n",
    "display(bdata.select(\"stimulus_name\"))\n",
    "\n",
    "bdata.add_vmap(\"stimulus_name\", stimulus_name_vmap)\n",
    "\n",
    "display(bdata.get_labels(\"stimulus_name\"))"
   ]
  },
  {
   "cell_type": "code",
   "execution_count": null,
   "id": "39a222ce",
   "metadata": {},
   "outputs": [],
   "source": [
    "# Add metadata (ROIs)\n",
    "\n",
    "for roi in rois:\n",
    "    bdata.add_metadata(roi, roi_masks[roi], description=f\"Mask for {roi}\", where=\"VoxelData\")\n",
    "\n",
    "display(bdata.select(\"V1\").shape)"
   ]
  },
  {
   "cell_type": "markdown",
   "id": "5445d1fa",
   "metadata": {},
   "source": [
    "## 7. Save BData"
   ]
  },
  {
   "cell_type": "code",
   "execution_count": null,
   "id": "080c3aaa",
   "metadata": {},
   "outputs": [],
   "source": [
    "bdata.save(\"sub-01_betas.h5\")"
   ]
  }
 ],
 "metadata": {
  "kernelspec": {
   "display_name": "base",
   "language": "python",
   "name": "python3"
  },
  "language_info": {
   "codemirror_mode": {
    "name": "ipython",
    "version": 3
   },
   "file_extension": ".py",
   "mimetype": "text/x-python",
   "name": "python",
   "nbconvert_exporter": "python",
   "pygments_lexer": "ipython3",
   "version": "3.8.5"
  }
 },
 "nbformat": 4,
 "nbformat_minor": 5
}
